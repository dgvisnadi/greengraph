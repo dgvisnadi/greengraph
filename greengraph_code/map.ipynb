{
 "cells": [
  {
   "cell_type": "code",
   "execution_count": 1,
   "metadata": {
    "collapsed": true
   },
   "outputs": [],
   "source": [
    "import numpy as np\n",
    "import geopy\n",
    "# from StringIO import StringIO\n",
    "from io import StringIO\n",
    "from matplotlib import image as img\n",
    "\n",
    "class Map(object):\n",
    "    def __init__(self, lat, long, satellite=True,\n",
    "           zoom=10, size=(400,400), sensor=False):\n",
    "        base=\"http://maps.googleapis.com/maps/api/staticmap?\"\n",
    "        \n",
    "        params=dict(\n",
    "            sensor= str(sensor).lower(),\n",
    "            zoom= zoom,\n",
    "            size= \"x\".join(map(str, size)),\n",
    "            center= \",\".join(map(str, (lat, long) )),\n",
    "            style=\"feature:all|element:labels|visibility:off\"\n",
    "        )\n",
    "        \n",
    "        if satellite:\n",
    "            params[\"maptype\"]=\"satellite\"\n",
    "\n",
    "        self.image = requests.get(base, params=params).content \n",
    "        # Fetch our PNG image data\n",
    "        self.pixels= img.imread(StringIO(self.image))\n",
    "        # Parse our PNG image as a numpy array\n",
    "        \n",
    "    def green(self, threshold):\n",
    "        # Use NumPy to build an element-by-element logical array \n",
    "        greener_than_red = self.pixels[:,:,1] > threshold* self.pixels[:,:,0] \n",
    "        greener_than_blue = self.pixels[:,:,1] > threshold*self.pixels[:,:,2] \n",
    "        green = np.logical_and(greener_than_red, greener_than_blue)\n",
    "        return green\n",
    "    \n",
    "    def count_green(self, threshold = 1.1): \n",
    "        return np.sum(self.green(threshold))\n",
    "\n",
    "    def show_green(data, threshold = 1.1):\n",
    "        green = self.green(threshold)\n",
    "        out = green[:,:,np.newaxis]*array([0,1,0])[np.newaxis,np.newaxis,:]\n",
    "        buffer = StringIO()\n",
    "        result = img.imsave(buffer, out, format='png') \n",
    "        return buffer.getvalue()"
   ]
  },
  {
   "cell_type": "code",
   "execution_count": null,
   "metadata": {
    "collapsed": true
   },
   "outputs": [],
   "source": []
  }
 ],
 "metadata": {
  "anaconda-cloud": {},
  "kernelspec": {
   "display_name": "Python [default]",
   "language": "python",
   "name": "python3"
  },
  "language_info": {
   "codemirror_mode": {
    "name": "ipython",
    "version": 3
   },
   "file_extension": ".py",
   "mimetype": "text/x-python",
   "name": "python",
   "nbconvert_exporter": "python",
   "pygments_lexer": "ipython3",
   "version": "3.5.2"
  }
 },
 "nbformat": 4,
 "nbformat_minor": 1
}
